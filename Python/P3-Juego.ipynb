{
 "cells": [
  {
   "cell_type": "markdown",
   "id": "e87fdfc4",
   "metadata": {},
   "source": [
    "# PRACTICA - CAROLINA VIDAL y ANA POMARES\n",
    "\n",
    "\n",
    "## JUEGO DE ADIVINANZAS\n",
    "\n",
    "#### Escribe un programa que coja un número entero del 1 al 100, y los jugadores tienen que tratar de adivinar el número.\n",
    "\n",
    "#### Las reglas son las siguientes:\n",
    "\n",
    "1. Si un jugador escoje un número menor que 1 o mayor que 100, el programa dice \"FUERA DE LÍMITES\"\n",
    "2. En el primer turno del jugador, si está en un rango de 10 del número dice \"¡CALIENTE!\". Si está fuera de ese rango dice \"¡FRIO!\"\n",
    "3. En todas las rondas siguientes, si el jugador se acerca más que la vez anterior, dice \"¡MAS CALIENTE!\". Si está más lejos que la anterior vez dice \"¡MAS FRIO!\"\n",
    "4. Cuando el jugador acierte el número, les dirá que han acertado y cuántos intentos les ha llevado\n",
    "\n",
    "\n",
    "\n"
   ]
  },
  {
   "cell_type": "markdown",
   "id": "1ea418c3",
   "metadata": {},
   "source": [
    "##### PISTAS\n",
    "1. Trata obtener un número aleatorio entre el 1 y el 100\n",
    "2. Haz una introducción de tu juego y explica las reglas\n",
    "3. Crea una lista que almacene los intentos. \n",
    "4. Haz un bucle que evalúe un número. Prueba que funcione primero. While podría ir bien\n",
    "5. Modifica ese bucle para que compare nuestro número con el intento. Si se acierta usa break, si no puedes usar continue y tienes que seguir preguntando al jugador por nuevos intentos"
   ]
  },
  {
   "cell_type": "code",
   "execution_count": 16,
   "id": "9d8095d9",
   "metadata": {},
   "outputs": [
    {
     "name": "stdout",
     "output_type": "stream",
     "text": [
      "¡Hola jugador!\n",
      "¡Bienvenido al juego de tu vidaaaaa!!!\n",
      "A continucacion te vamos a explicar las reglas del juego\n",
      "Tendrás que elegir un nº menor que 1 o mayor que 100, y tras eso comenzaran las siguientes rondas\n",
      "En la primera ronda, si el nº esta en un rango de 10 te gritaremos ¡CALIENTE!, por el contrario, si esta fuera de rango te avisaremos con un ¡FRIO!\n",
      "En las rondas siguientes según te vayas acercando o alejando del rango anterior, te diremos ¡MAS CALIENTE! o ¡MAS FRIO!\n"
     ]
    }
   ],
   "source": [
    "print(\"¡Hola jugador!\")\n",
    "print(\"¡Bienvenido al juego de tu vidaaaaa!!!\")\n",
    "print(\"A continucacion te vamos a explicar las reglas del juego\")\n",
    "print(\"Tendrás que elegir un nº menor que 1 o mayor que 100, y tras eso comenzaran las siguientes rondas\")\n",
    "print(\"En la primera ronda, si el nº esta en un rango de 10 te gritaremos ¡CALIENTE!, por el contrario, si esta fuera de rango te avisaremos con un ¡FRIO!\")\n",
    "print(\"En las rondas siguientes según te vayas acercando o alejando del rango anterior, te diremos ¡MAS CALIENTE! o ¡MAS FRIO!\")\n"
   ]
  },
  {
   "cell_type": "code",
   "execution_count": 11,
   "id": "7097078c-e909-470a-ba49-1ac876ed6614",
   "metadata": {},
   "outputs": [],
   "source": [
    "from random import shuffle"
   ]
  },
  {
   "cell_type": "code",
   "execution_count": 12,
   "id": "19597067-2ec3-433d-8a68-0a91a5a730ef",
   "metadata": {},
   "outputs": [
    {
     "data": {
      "text/plain": [
       "[39,\n",
       " 26,\n",
       " 73,\n",
       " 97,\n",
       " 12,\n",
       " 46,\n",
       " 1,\n",
       " 100,\n",
       " 57,\n",
       " 54,\n",
       " 41,\n",
       " 92,\n",
       " 88,\n",
       " 64,\n",
       " 76,\n",
       " 85,\n",
       " 2,\n",
       " 13,\n",
       " 5,\n",
       " 79,\n",
       " 80,\n",
       " 68,\n",
       " 67,\n",
       " 56,\n",
       " 84,\n",
       " 44,\n",
       " 59,\n",
       " 81,\n",
       " 87,\n",
       " 94,\n",
       " 52,\n",
       " 69,\n",
       " 70,\n",
       " 30,\n",
       " 37,\n",
       " 27,\n",
       " 14,\n",
       " 48,\n",
       " 23,\n",
       " 90,\n",
       " 36,\n",
       " 71,\n",
       " 3,\n",
       " 50,\n",
       " 6,\n",
       " 72,\n",
       " 51,\n",
       " 96,\n",
       " 4,\n",
       " 78,\n",
       " 20,\n",
       " 61,\n",
       " 49,\n",
       " 83,\n",
       " 25,\n",
       " 86,\n",
       " 60,\n",
       " 22,\n",
       " 8,\n",
       " 9,\n",
       " 53,\n",
       " 18,\n",
       " 17,\n",
       " 66,\n",
       " 43,\n",
       " 16,\n",
       " 38,\n",
       " 33,\n",
       " 15,\n",
       " 42,\n",
       " 75,\n",
       " 24,\n",
       " 32,\n",
       " 7,\n",
       " 93,\n",
       " 77,\n",
       " 89,\n",
       " 62,\n",
       " 98,\n",
       " 10,\n",
       " 21,\n",
       " 28,\n",
       " 45,\n",
       " 74,\n",
       " 91,\n",
       " 55,\n",
       " 99,\n",
       " 95,\n",
       " 35,\n",
       " 29,\n",
       " 34,\n",
       " 31,\n",
       " 63,\n",
       " 65,\n",
       " 40,\n",
       " 19,\n",
       " 47,\n",
       " 58,\n",
       " 11,\n",
       " 82]"
      ]
     },
     "execution_count": 12,
     "metadata": {},
     "output_type": "execute_result"
    }
   ],
   "source": [
    "mi_game = list(range(1,101))\n",
    "shuffle(mi_game)\n",
    "numero_juego = mi_game[4]\n",
    "numero_juego\n",
    "#mi_game"
   ]
  },
  {
   "cell_type": "code",
   "execution_count": 7,
   "id": "d2f9e464-2d0a-4d5c-89e1-5bd239244383",
   "metadata": {},
   "outputs": [],
   "source": [
    "def adivi():\n",
    "    intento = ''\n",
    "    while intento not in mi_game:\n",
    "        intento = int(input(\"Escoge un numero del 1 al 100\"))\n",
    "    return (intento)\n"
   ]
  },
  {
   "cell_type": "code",
   "execution_count": 8,
   "id": "8c47b1e6-ba2b-4d83-9e8f-3b113dfd4e77",
   "metadata": {},
   "outputs": [
    {
     "name": "stdin",
     "output_type": "stream",
     "text": [
      "Escoge un numero del 1 al 100 56\n"
     ]
    },
    {
     "data": {
      "text/plain": [
       "56"
      ]
     },
     "execution_count": 8,
     "metadata": {},
     "output_type": "execute_result"
    }
   ],
   "source": [
    "adivi()"
   ]
  },
  {
   "cell_type": "code",
   "execution_count": null,
   "id": "12f17ba3-1a5b-4418-bd8c-d9045a5e05f5",
   "metadata": {},
   "outputs": [
    {
     "name": "stdin",
     "output_type": "stream",
     "text": [
      "Escoge un numero del 1 al 100 5\n"
     ]
    },
    {
     "name": "stdout",
     "output_type": "stream",
     "text": [
      "FRIO\n"
     ]
    },
    {
     "name": "stdin",
     "output_type": "stream",
     "text": [
      "Escoge un numero del 1 al 100 65\n"
     ]
    },
    {
     "name": "stdout",
     "output_type": "stream",
     "text": [
      "FRIO\n"
     ]
    },
    {
     "name": "stdin",
     "output_type": "stream",
     "text": [
      "Escoge un numero del 1 al 100 87\n"
     ]
    },
    {
     "name": "stdout",
     "output_type": "stream",
     "text": [
      "CALIENTE\n"
     ]
    },
    {
     "name": "stdin",
     "output_type": "stream",
     "text": [
      "Escoge un numero del 1 al 100 12\n"
     ]
    },
    {
     "name": "stdout",
     "output_type": "stream",
     "text": [
      "FRIO\n"
     ]
    },
    {
     "name": "stdin",
     "output_type": "stream",
     "text": [
      "Escoge un numero del 1 al 100 3\n"
     ]
    },
    {
     "name": "stdout",
     "output_type": "stream",
     "text": [
      "FRIO\n"
     ]
    },
    {
     "name": "stdin",
     "output_type": "stream",
     "text": [
      "Escoge un numero del 1 al 100 4\n"
     ]
    },
    {
     "name": "stdout",
     "output_type": "stream",
     "text": [
      "FRIO\n"
     ]
    },
    {
     "name": "stdin",
     "output_type": "stream",
     "text": [
      "Escoge un numero del 1 al 100 56\n"
     ]
    }
   ],
   "source": [
    "##### lista_intento = []\n",
    "while True:\n",
    "    intento = adivi()\n",
    "    lista_intento = []\n",
    "    if intento == numero_juego:\n",
    "        lista_intento.append(intento)\n",
    "        print(f\"¡HAS ACERTADO EN {len(lista_intento)}intentos!\")\n",
    "    else:\n",
    "        if len(lista_intento) == 0:\n",
    "            if abs(intento - numero_juego) <= 10:\n",
    "                print(\"CALIENTE\")\n",
    "                lista_intento.append(intento)\n",
    "            else:\n",
    "                print(\"FRIO\")\n",
    "                lista_intento.append(intento)\n",
    "        else:\n",
    "            intento = adivi()\n",
    "            if abs(intento - numero_juego) > abs(lista_intento[-1] - numero_juego):\n",
    "                print(\"MAS CALIENTE\")\n",
    "            else:\n",
    "                print(\"MAS FRIO\")\n",
    "                \n",
    "\n"
   ]
  },
  {
   "cell_type": "code",
   "execution_count": null,
   "id": "ba2c6e03-447f-4bf2-95d6-c635dbb953df",
   "metadata": {},
   "outputs": [],
   "source": []
  },
  {
   "cell_type": "code",
   "execution_count": null,
   "id": "a71bb8e5-4285-4ef8-aba8-485f60c21fb5",
   "metadata": {},
   "outputs": [],
   "source": []
  },
  {
   "cell_type": "code",
   "execution_count": null,
   "id": "5a4b5295-f621-493b-8cec-72875a8ea8c8",
   "metadata": {},
   "outputs": [],
   "source": []
  }
 ],
 "metadata": {
  "kernelspec": {
   "display_name": "Python [conda env:base] *",
   "language": "python",
   "name": "conda-base-py"
  },
  "language_info": {
   "codemirror_mode": {
    "name": "ipython",
    "version": 3
   },
   "file_extension": ".py",
   "mimetype": "text/x-python",
   "name": "python",
   "nbconvert_exporter": "python",
   "pygments_lexer": "ipython3",
   "version": "3.13.5"
  }
 },
 "nbformat": 4,
 "nbformat_minor": 5
}
