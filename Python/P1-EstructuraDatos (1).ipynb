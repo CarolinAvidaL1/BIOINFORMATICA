{
 "cells": [
  {
   "cell_type": "markdown",
   "id": "57e5a4ba",
   "metadata": {},
   "source": [
    "# PRACTICA 1\n",
    "\n",
    "### Resuelve las siguientes preguntas empleando lo aprendido con las estructuras de Datos"
   ]
  },
  {
   "cell_type": "markdown",
   "id": "092831f1",
   "metadata": {},
   "source": [
    "Pon el código debajo de cada pregunta. Añade tantas celdas de código como necesites."
   ]
  },
  {
   "cell_type": "markdown",
   "id": "94b6abb8",
   "metadata": {},
   "source": [
    "#### 1.- Escribe una ecuación que emplee multiplicación, división, un exponente, suma y resta y que sea igual a 100.25. (0,25 ptos)"
   ]
  },
  {
   "cell_type": "code",
   "execution_count": 5,
   "id": "4e5e660a",
   "metadata": {},
   "outputs": [
    {
     "name": "stdout",
     "output_type": "stream",
     "text": [
      "100.25\n"
     ]
    }
   ],
   "source": [
    "resultado = (10 ** 2)* 2 / 2 + 1.25 - 1\n",
    "print (resultado)"
   ]
  },
  {
   "cell_type": "markdown",
   "id": "95ec00dc",
   "metadata": {},
   "source": [
    "#### 2.- ¿Qué harías para obtener la raíz cuadrada de 100? Busca dos formas. (0,5 ptos)"
   ]
  },
  {
   "cell_type": "code",
   "execution_count": 8,
   "id": "d1476ef0",
   "metadata": {},
   "outputs": [
    {
     "name": "stdout",
     "output_type": "stream",
     "text": [
      "10.0\n"
     ]
    }
   ],
   "source": [
    "raiz1 = (100**0.5)\n",
    "print (raiz1)"
   ]
  },
  {
   "cell_type": "code",
   "execution_count": 9,
   "id": "929b8abe-bfab-4a06-973f-4ec8bef59011",
   "metadata": {},
   "outputs": [
    {
     "name": "stdout",
     "output_type": "stream",
     "text": [
      "10.0\n"
     ]
    }
   ],
   "source": [
    "import math \n",
    "raiz2 = math.sqrt (100)\n",
    "print (raiz2)"
   ]
  },
  {
   "cell_type": "raw",
   "id": "3311b779-382f-4d43-88c4-9a9303b0f240",
   "metadata": {},
   "source": []
  },
  {
   "cell_type": "markdown",
   "id": "95232620",
   "metadata": {},
   "source": [
    "#### 3.- ¿Y el cuadrado de 100? (0,25 ptos)"
   ]
  },
  {
   "cell_type": "code",
   "execution_count": 12,
   "id": "14249667",
   "metadata": {},
   "outputs": [
    {
     "name": "stdout",
     "output_type": "stream",
     "text": [
      "10000\n"
     ]
    }
   ],
   "source": [
    "resultado3 = (100 ** 2)\n",
    "print(resultado3)\n"
   ]
  },
  {
   "cell_type": "markdown",
   "id": "7fc5bfae",
   "metadata": {},
   "source": [
    "#### 4.- Tenemos la string 'hello'. (0,5 ptos)\n",
    "#### Primero devuelve la letra 'e'\n",
    "#### Luego dale la vuelta a la string \n",
    "#### Después usa dos métodos para devolver la letra 'o'"
   ]
  },
  {
   "cell_type": "code",
   "execution_count": 14,
   "id": "a6d0eb90",
   "metadata": {},
   "outputs": [],
   "source": [
    "s = 'hello'"
   ]
  },
  {
   "cell_type": "code",
   "execution_count": 15,
   "id": "a3f33800",
   "metadata": {},
   "outputs": [
    {
     "name": "stdout",
     "output_type": "stream",
     "text": [
      "e\n"
     ]
    }
   ],
   "source": [
    "# devolvemos la letra 'e'\n",
    "print (s[1] )"
   ]
  },
  {
   "cell_type": "code",
   "execution_count": 17,
   "id": "345808f7-a0a6-4bb4-80e1-1f70b413ba31",
   "metadata": {},
   "outputs": [
    {
     "name": "stdout",
     "output_type": "stream",
     "text": [
      "olleh\n"
     ]
    }
   ],
   "source": [
    "# vuelta a la string\n",
    "invertida = s [::-1]\n",
    "print (invertida)"
   ]
  },
  {
   "cell_type": "code",
   "execution_count": 21,
   "id": "ebaa0622-ccdc-4375-8071-9309342579ab",
   "metadata": {},
   "outputs": [
    {
     "name": "stdout",
     "output_type": "stream",
     "text": [
      "o\n"
     ]
    }
   ],
   "source": [
    "# devolvemos letra 'o'\n",
    "# indice positivo\n",
    "print(s[-1])\n"
   ]
  },
  {
   "cell_type": "code",
   "execution_count": 22,
   "id": "5b16d1d2-c31e-4143-8820-4c5c8107b2aa",
   "metadata": {},
   "outputs": [
    {
     "name": "stdout",
     "output_type": "stream",
     "text": [
      "o\n"
     ]
    }
   ],
   "source": [
    "# indice de la invertida\n",
    "print (invertida[0])"
   ]
  },
  {
   "cell_type": "markdown",
   "id": "0febc918",
   "metadata": {},
   "source": [
    "#### 5.- Crear una lista que contenga esto [0,0,0] de dos formas distintas (0,5 ptos)"
   ]
  },
  {
   "cell_type": "code",
   "execution_count": 23,
   "id": "30981b24",
   "metadata": {},
   "outputs": [
    {
     "name": "stdout",
     "output_type": "stream",
     "text": [
      "[0, 0, 0]\n"
     ]
    }
   ],
   "source": [
    "lista1 = [0,0,0]\n",
    "print (lista1)"
   ]
  },
  {
   "cell_type": "code",
   "execution_count": 25,
   "id": "e4496d80-4d25-4999-aa77-f8df9dde3295",
   "metadata": {},
   "outputs": [
    {
     "name": "stdout",
     "output_type": "stream",
     "text": [
      "[0, 0, 0]\n"
     ]
    }
   ],
   "source": [
    "lista2 = [0]*3\n",
    "print (lista2)"
   ]
  },
  {
   "cell_type": "markdown",
   "id": "80e1a951",
   "metadata": {},
   "source": [
    "#### 6.- Reasigna 'hello' en la lista a continuación para que diga 'goodbye' (1 pto)"
   ]
  },
  {
   "cell_type": "code",
   "execution_count": 29,
   "id": "20d1ebdf",
   "metadata": {},
   "outputs": [],
   "source": [
    "lista = [1,2,[3,4,'hello']]"
   ]
  },
  {
   "cell_type": "code",
   "execution_count": 30,
   "id": "e9eb03ae",
   "metadata": {},
   "outputs": [
    {
     "name": "stdout",
     "output_type": "stream",
     "text": [
      "[1, 2, [3, 4, 'goodbye']]\n"
     ]
    }
   ],
   "source": [
    "lista[2][2] = 'goodbye'\n",
    "print(lista)"
   ]
  },
  {
   "cell_type": "markdown",
   "id": "77e38490",
   "metadata": {},
   "source": [
    "#### 7.- Ordena la siguiente lista (0,5 ptos)"
   ]
  },
  {
   "cell_type": "code",
   "execution_count": 31,
   "id": "bc957d55",
   "metadata": {},
   "outputs": [],
   "source": [
    "listaSinOrdenar = [5,3,4,6,1]"
   ]
  },
  {
   "cell_type": "code",
   "execution_count": 32,
   "id": "e2c2fb65",
   "metadata": {},
   "outputs": [
    {
     "name": "stdout",
     "output_type": "stream",
     "text": [
      "[1, 3, 4, 5, 6]\n"
     ]
    }
   ],
   "source": [
    "listaSinOrdenar.sort()\n",
    "print(listaSinOrdenar)"
   ]
  },
  {
   "cell_type": "markdown",
   "id": "0cc790ac",
   "metadata": {},
   "source": [
    "#### 8.- En los siguientes diccionarios, extrae el valor de 'hello (2 ptos)"
   ]
  },
  {
   "cell_type": "code",
   "execution_count": 36,
   "id": "c390a0bb",
   "metadata": {},
   "outputs": [],
   "source": [
    "f = {'k1':{'k2':'hello'}}"
   ]
  },
  {
   "cell_type": "code",
   "execution_count": 39,
   "id": "4cdcd16e",
   "metadata": {},
   "outputs": [
    {
     "name": "stdout",
     "output_type": "stream",
     "text": [
      "hello\n"
     ]
    }
   ],
   "source": [
    "print(f['k1']['k2'])"
   ]
  },
  {
   "cell_type": "code",
   "execution_count": 44,
   "id": "c0244e1f",
   "metadata": {},
   "outputs": [],
   "source": [
    "d = {'key1':'hello'}"
   ]
  },
  {
   "cell_type": "code",
   "execution_count": 45,
   "id": "196ef04c",
   "metadata": {},
   "outputs": [
    {
     "name": "stdout",
     "output_type": "stream",
     "text": [
      "hello\n"
     ]
    }
   ],
   "source": [
    "print(d['key1'])\n"
   ]
  },
  {
   "cell_type": "code",
   "execution_count": 46,
   "id": "344d780b",
   "metadata": {},
   "outputs": [],
   "source": [
    "g = {'k1':[{'o1':['valor escondido',['hello']]}]}"
   ]
  },
  {
   "cell_type": "code",
   "execution_count": 51,
   "id": "e965a858",
   "metadata": {},
   "outputs": [
    {
     "name": "stdout",
     "output_type": "stream",
     "text": [
      "hello\n"
     ]
    }
   ],
   "source": [
    "print(g['k1'][0]['o1'][1][0])"
   ]
  },
  {
   "cell_type": "code",
   "execution_count": 52,
   "id": "663f9ffd",
   "metadata": {},
   "outputs": [],
   "source": [
    "h = {'k1':[1,2,{'k2':['complicado',{'dificil':[1,2,['hello']]}]}]}"
   ]
  },
  {
   "cell_type": "code",
   "execution_count": 53,
   "id": "9b9d7d97",
   "metadata": {},
   "outputs": [
    {
     "name": "stdout",
     "output_type": "stream",
     "text": [
      "hello\n"
     ]
    }
   ],
   "source": [
    "print(h['k1'][2]['k2'][1]['dificil'][2][0])"
   ]
  },
  {
   "cell_type": "markdown",
   "id": "7692eea8",
   "metadata": {},
   "source": [
    "#### 9.- Crea una tupla (1 pto)"
   ]
  },
  {
   "cell_type": "code",
   "execution_count": 55,
   "id": "23886da1",
   "metadata": {},
   "outputs": [
    {
     "name": "stdout",
     "output_type": "stream",
     "text": [
      "(1, 2, 3, 'goodbye')\n"
     ]
    }
   ],
   "source": [
    "tupla = (1,2,3, 'goodbye')\n",
    "print(tupla)"
   ]
  },
  {
   "cell_type": "markdown",
   "id": "6231d723",
   "metadata": {},
   "source": [
    "#### 10.- Emplea los sets para encontrar los valores únicos de esta lista (0,5 ptos)"
   ]
  },
  {
   "cell_type": "code",
   "execution_count": 59,
   "id": "a7cbba3a",
   "metadata": {},
   "outputs": [],
   "source": [
    "listaDuplicada = [1,2,2,33,4,4,11,22,3,3,2]"
   ]
  },
  {
   "cell_type": "code",
   "execution_count": 61,
   "id": "71da8284",
   "metadata": {},
   "outputs": [
    {
     "name": "stdout",
     "output_type": "stream",
     "text": [
      "{1, 2, 33, 4, 3, 11, 22}\n"
     ]
    }
   ],
   "source": [
    "Vunico = set(listaDuplicada)\n",
    "print(Vunico)"
   ]
  },
  {
   "cell_type": "markdown",
   "id": "9b217cfc",
   "metadata": {},
   "source": [
    "#### 11.- Haz las siguientes comparaciones: (0,5 ptos)\n",
    "#### Dos mayor que tres\n",
    "#### Tres igual que 2\n",
    "#### La raíz cuadrada de cuatro no es igual a 2\n",
    "#### Se cumple si 6 es mayor que 5 y 7 menor de 8\n",
    "#### Se cumple si la longitud de _nombre_ es  que el número de elementos de _colores_ o si la longitud de _nombre_ es menor de 7."
   ]
  },
  {
   "cell_type": "code",
   "execution_count": 62,
   "id": "59b70e21",
   "metadata": {},
   "outputs": [
    {
     "data": {
      "text/plain": [
       "False"
      ]
     },
     "execution_count": 62,
     "metadata": {},
     "output_type": "execute_result"
    }
   ],
   "source": [
    "# 2 mayor que 3\n",
    "2 > 3"
   ]
  },
  {
   "cell_type": "code",
   "execution_count": 63,
   "id": "89985eaf",
   "metadata": {},
   "outputs": [
    {
     "data": {
      "text/plain": [
       "False"
      ]
     },
     "execution_count": 63,
     "metadata": {},
     "output_type": "execute_result"
    }
   ],
   "source": [
    "# 3 igual que 2\n",
    "3 == 2"
   ]
  },
  {
   "cell_type": "code",
   "execution_count": 69,
   "id": "16c4febf",
   "metadata": {},
   "outputs": [
    {
     "data": {
      "text/plain": [
       "False"
      ]
     },
     "execution_count": 69,
     "metadata": {},
     "output_type": "execute_result"
    }
   ],
   "source": [
    "# raíz cuadrada de 4 no es igual a 2\n",
    "import math\n",
    "(math.sqrt(4)) !=2"
   ]
  },
  {
   "cell_type": "code",
   "execution_count": 75,
   "id": "e5ed7361-8611-4c1f-bebe-4f4247800baa",
   "metadata": {},
   "outputs": [
    {
     "data": {
      "text/plain": [
       "True"
      ]
     },
     "execution_count": 75,
     "metadata": {},
     "output_type": "execute_result"
    }
   ],
   "source": [
    "nombre = \"Pepito\"\n",
    "colores = [\"azul\",\"rojo\",\"verde\",\"lila\",\"amarillo limón\"]\n",
    "len(nombre) > len(colores) or len(nombre) < 7\n",
    "6 > 5\n",
    "6< 7"
   ]
  },
  {
   "cell_type": "markdown",
   "id": "bc1471d1-0d87-4c9d-8a0f-e2d735f2c764",
   "metadata": {},
   "source": [
    "#### 12.- Crea un archivo mediante código que se llame _tabla-nombres.txt_ y que esté formado por 4 columnas y 4 filas con la siguiente formación (1,5 ptos):\n",
    "#### Primera columna: Nombre\n",
    "#### Segunda columna: Apellidos (2 apellidos)\n",
    "#### Tercera columna: Edad\n",
    "#### Cuarta columna: Mascotas (nombre de la mascota si tienen)\n",
    "\n",
    "#### ¿Qué pasa si abres el archivo desde Jupyter y has metido acentos? ¿Puedes solucionarlo?"
   ]
  },
  {
   "cell_type": "code",
   "execution_count": 76,
   "id": "1ce5ecc5-05c2-41ee-8080-6270258a1d88",
   "metadata": {},
   "outputs": [],
   "source": [
    "with open(\"tabla-nombres.txt\" , \"w\", encoding=\"utf-8\") as f:\n",
    "    f.write(\"Nombre\\tApellidos\\tEdad\\tMascota\\n\")\n",
    "    f.write(\"Ana\\tPérez Sanchez\\t12\\tKoke\\n\")\n",
    "    f.write(\"Javier\\tGómez Luna\\t35\\t\\n\")\n",
    "    f.write(\"José\\tMéndez López\\t67\\tBotón\\n\")\n",
    "    f.write(\"María\\tDíaz Fernández\\t27\\tTuno\\n\")\n",
    "          "
   ]
  },
  {
   "cell_type": "code",
   "execution_count": 77,
   "id": "9ca3a55f-e845-41b0-b602-648431d6d9a6",
   "metadata": {},
   "outputs": [
    {
     "name": "stdout",
     "output_type": "stream",
     "text": [
      "Nombre\tApellidos\tEdad\tMascota\n",
      "Ana\tPÃ©rez Sanchez\t12\tKoke\n",
      "Javier\tGÃ³mez Luna\t35\t\n",
      "JosÃ©\tMÃ©ndez LÃ³pez\t67\tBotÃ³n\n",
      "MarÃ­a\tDÃ­az FernÃ¡ndez\t27\tTuno\n",
      "\n"
     ]
    }
   ],
   "source": [
    "with open(\"tabla-nombres.txt\") as f:\n",
    "    print (f.read())"
   ]
  },
  {
   "cell_type": "code",
   "execution_count": 78,
   "id": "68980953-7875-46d1-8642-73c7ffafcb0e",
   "metadata": {},
   "outputs": [
    {
     "name": "stdout",
     "output_type": "stream",
     "text": [
      "Nombre\tApellidos\tEdad\tMascota\n",
      "Ana\tPérez Sanchez\t12\tKoke\n",
      "Javier\tGómez Luna\t35\t\n",
      "José\tMéndez López\t67\tBotón\n",
      "María\tDíaz Fernández\t27\tTuno\n",
      "\n"
     ]
    }
   ],
   "source": [
    "# cuando los acentos salen mal:\n",
    "with open(\"tabla-nombres.txt\", \"r\", encoding=\"utf-8\") as f:\n",
    "    contenido = f.read()\n",
    "    print(contenido)"
   ]
  },
  {
   "cell_type": "markdown",
   "id": "acfdde50-7f35-499e-b8dc-f8246dfaefb3",
   "metadata": {},
   "source": [
    "#### 13.- Crea un diccionario que contenga las siguientes parejas. Obtén el listado de keys() y guárdalo en una lista. Añade un par de elementos más y después convierte esa lista en un set (1 pto).\n",
    "\n",
    "#### Rattus = novergicus, rattus\n",
    "#### Glaucidium = brasilianum, hoskinsii, californicum, minutissimum\n",
    "#### Echinocactus = grusonii\n",
    "#### Opuntia = 1\n"
   ]
  },
  {
   "cell_type": "code",
   "execution_count": 84,
   "id": "c92024a1-08cf-4ca9-9d8e-40402909e024",
   "metadata": {},
   "outputs": [],
   "source": [
    "# creamos el diccionario con las parejas indicadas\n",
    "dicc = {\n",
    "    \"Rattus\": [\"novergicus\", \"rattus\"],\n",
    "    \"Glaucidium\": [\"brasilianum\", \"hoskinsii\", \"californicum\", \"minutissimum\"],\n",
    "    \"Echinocactus\": [\"grusonii\"],\n",
    "    \"Opuntia\": 1\n",
    "}"
   ]
  },
  {
   "cell_type": "code",
   "execution_count": 85,
   "id": "e27e95f5-de3a-4d9c-8c92-d7cbce518af4",
   "metadata": {},
   "outputs": [
    {
     "name": "stdout",
     "output_type": "stream",
     "text": [
      "['Rattus', 'Glaucidium', 'Echinocactus', 'Opuntia']\n"
     ]
    }
   ],
   "source": [
    "\n",
    "# Obtenemos el listado de keys() y lo guardamos en una lista\n",
    "lista_claves = list(dicc.keys())\n",
    "print(lista_claves)"
   ]
  },
  {
   "cell_type": "code",
   "execution_count": 86,
   "id": "e2ecde59-6ce1-4d88-8644-150e2b63a888",
   "metadata": {},
   "outputs": [],
   "source": [
    "# Añadimos dos pares mas al diccionario\n",
    "dicc[\"Canis\"] = [\"lupus\", \"familiaris\"]\n",
    "dicc[\"Felis\"] = [\"catus\"]"
   ]
  },
  {
   "cell_type": "code",
   "execution_count": 87,
   "id": "254dbd0d-91ca-4a0c-bc71-ae5263d544d1",
   "metadata": {},
   "outputs": [
    {
     "name": "stdout",
     "output_type": "stream",
     "text": [
      "{'Rattus', 'Echinocactus', 'Opuntia', 'Glaucidium'}\n"
     ]
    }
   ],
   "source": [
    "# Convertimos la lista original de claves en un set\n",
    "conjunto_claves = set(lista_claves)\n",
    "print(conjunto_claves)"
   ]
  }
 ],
 "metadata": {
  "kernelspec": {
   "display_name": "Python [conda env:base] *",
   "language": "python",
   "name": "conda-base-py"
  },
  "language_info": {
   "codemirror_mode": {
    "name": "ipython",
    "version": 3
   },
   "file_extension": ".py",
   "mimetype": "text/x-python",
   "name": "python",
   "nbconvert_exporter": "python",
   "pygments_lexer": "ipython3",
   "version": "3.13.5"
  }
 },
 "nbformat": 4,
 "nbformat_minor": 5
}
